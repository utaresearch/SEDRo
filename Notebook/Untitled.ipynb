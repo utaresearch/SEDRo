{
 "cells": [
  {
   "cell_type": "code",
   "execution_count": 1,
   "metadata": {},
   "outputs": [],
   "source": [
    "env_name = \"/Users/intuinno/codegit/SEDRo/Build/OSX/SEDRo.app\"  # Name of the Unity environment binary to launch\n",
    "train_mode = True "
   ]
  },
  {
   "cell_type": "code",
   "execution_count": 4,
   "metadata": {},
   "outputs": [
    {
     "name": "stdout",
     "output_type": "stream",
     "text": [
      "Python version:\n",
      "3.6.10 |Anaconda, Inc.| (default, Jan  7 2020, 15:01:53) \n",
      "[GCC 4.2.1 Compatible Clang 4.0.1 (tags/RELEASE_401/final)]\n"
     ]
    }
   ],
   "source": [
    "import matplotlib.pyplot as plt\n",
    "import numpy as np\n",
    "import sys\n",
    "\n",
    "from mlagents_envs.environment import UnityEnvironment\n",
    "from mlagents_envs.side_channel.engine_configuration_channel import EngineConfig, EngineConfigurationChannel\n",
    "\n",
    "# import torch\n",
    "import time\n",
    "import random\n",
    "import numpy as np\n",
    "from collections import deque\n",
    "from IPython.display import clear_output\n",
    "\n",
    "%matplotlib inline\n",
    "\n",
    "print(\"Python version:\")\n",
    "print(sys.version)\n",
    "\n",
    "# check Python version\n",
    "if (sys.version_info[0] < 3):\n",
    "    raise Exception(\"ERROR: ML-Agents Toolkit (v0.3 onwards) requires Python 3\")\n",
    "\n"
   ]
  },
  {
   "cell_type": "code",
   "execution_count": 5,
   "metadata": {},
   "outputs": [
    {
     "name": "stderr",
     "output_type": "stream",
     "text": [
      "INFO:mlagents_envs:Connected new brain:\n",
      "Baby?team=0\n"
     ]
    },
    {
     "name": "stdout",
     "output_type": "stream",
     "text": [
      "Baby?team=0\n"
     ]
    }
   ],
   "source": [
    "engine_configuration_channel = EngineConfigurationChannel()\n",
    "# env = UnityEnvironment(base_port = UnityEnvironment.DEFAULT_EDITOR_PORT, file_name=env_name, side_channels = [engine_configuration_channel])\n",
    "env = UnityEnvironment(base_port = 5004, file_name=env_name, side_channels = [engine_configuration_channel])\n",
    "\n",
    "#Reset the environment\n",
    "env.reset()\n",
    "\n",
    "\n",
    "# Set the default brain to work with\n",
    "group_name = env.get_agent_groups()[0]\n",
    "print(group_name)\n",
    "group_spec = env.get_agent_group_spec(group_name)\n",
    "\n",
    "# Set the time scale of the engine, training window size\n",
    "engine_configuration_channel.set_configuration_parameters(time_scale = 1.0, width = 512, height = 512)\n"
   ]
  },
  {
   "cell_type": "code",
   "execution_count": 6,
   "metadata": {},
   "outputs": [
    {
     "name": "stdout",
     "output_type": "stream",
     "text": [
      "Number of observations :  2\n",
      "[(84, 84, 3), (39,)]\n",
      "Action size:  39\n",
      "Agent state looks like: \n",
      "[[[[0.67058825 0.67058825 0.6666667 ]\n",
      "   [0.6509804  0.6509804  0.64705884]\n",
      "   [0.63529414 0.6313726  0.627451  ]\n",
      "   ...\n",
      "   [0.5372549  0.5254902  0.4862745 ]\n",
      "   [0.5529412  0.5372549  0.49803922]\n",
      "   [0.28627452 0.28235295 0.2784314 ]]\n",
      "\n",
      "  [[0.6745098  0.6745098  0.67058825]\n",
      "   [0.65882355 0.65882355 0.654902  ]\n",
      "   [0.6431373  0.6392157  0.63529414]\n",
      "   ...\n",
      "   [0.52156866 0.5019608  0.47058824]\n",
      "   [0.5254902  0.5137255  0.47058824]\n",
      "   [0.2901961  0.2901961  0.28235295]]\n",
      "\n",
      "  [[0.67058825 0.67058825 0.6666667 ]\n",
      "   [0.65882355 0.654902   0.6509804 ]\n",
      "   [0.6431373  0.6392157  0.63529414]\n",
      "   ...\n",
      "   [0.5254902  0.50980395 0.4745098 ]\n",
      "   [0.5411765  0.5294118  0.4862745 ]\n",
      "   [0.30588236 0.30588236 0.29411766]]\n",
      "\n",
      "  ...\n",
      "\n",
      "  [[0.36862746 0.32156864 0.27058825]\n",
      "   [0.36862746 0.32156864 0.27058825]\n",
      "   [0.36078432 0.3137255  0.2627451 ]\n",
      "   ...\n",
      "   [0.1764706  0.17254902 0.16862746]\n",
      "   [0.18431373 0.18039216 0.1764706 ]\n",
      "   [0.19215687 0.1882353  0.18431373]]\n",
      "\n",
      "  [[0.38039216 0.32941177 0.28235295]\n",
      "   [0.37254903 0.32156864 0.27450982]\n",
      "   [0.3647059  0.31764707 0.26666668]\n",
      "   ...\n",
      "   [0.20784314 0.18431373 0.16078432]\n",
      "   [0.18431373 0.18039216 0.1764706 ]\n",
      "   [0.19215687 0.1882353  0.18039216]]\n",
      "\n",
      "  [[0.37254903 0.3254902  0.27450982]\n",
      "   [0.36862746 0.32156864 0.27450982]\n",
      "   [0.36862746 0.31764707 0.27058825]\n",
      "   ...\n",
      "   [0.23137255 0.19215687 0.14901961]\n",
      "   [0.20784314 0.18431373 0.16078432]\n",
      "   [0.19215687 0.1882353  0.18039216]]]]\n",
      "Agent state looks like: \n",
      "[[[0.67058825 0.67058825 0.6666667 ]\n",
      "  [0.6509804  0.6509804  0.64705884]\n",
      "  [0.63529414 0.6313726  0.627451  ]\n",
      "  ...\n",
      "  [0.5372549  0.5254902  0.4862745 ]\n",
      "  [0.5529412  0.5372549  0.49803922]\n",
      "  [0.28627452 0.28235295 0.2784314 ]]\n",
      "\n",
      " [[0.6745098  0.6745098  0.67058825]\n",
      "  [0.65882355 0.65882355 0.654902  ]\n",
      "  [0.6431373  0.6392157  0.63529414]\n",
      "  ...\n",
      "  [0.52156866 0.5019608  0.47058824]\n",
      "  [0.5254902  0.5137255  0.47058824]\n",
      "  [0.2901961  0.2901961  0.28235295]]\n",
      "\n",
      " [[0.67058825 0.67058825 0.6666667 ]\n",
      "  [0.65882355 0.654902   0.6509804 ]\n",
      "  [0.6431373  0.6392157  0.63529414]\n",
      "  ...\n",
      "  [0.5254902  0.50980395 0.4745098 ]\n",
      "  [0.5411765  0.5294118  0.4862745 ]\n",
      "  [0.30588236 0.30588236 0.29411766]]\n",
      "\n",
      " ...\n",
      "\n",
      " [[0.36862746 0.32156864 0.27058825]\n",
      "  [0.36862746 0.32156864 0.27058825]\n",
      "  [0.36078432 0.3137255  0.2627451 ]\n",
      "  ...\n",
      "  [0.1764706  0.17254902 0.16862746]\n",
      "  [0.18431373 0.18039216 0.1764706 ]\n",
      "  [0.19215687 0.1882353  0.18431373]]\n",
      "\n",
      " [[0.38039216 0.32941177 0.28235295]\n",
      "  [0.37254903 0.32156864 0.27450982]\n",
      "  [0.3647059  0.31764707 0.26666668]\n",
      "  ...\n",
      "  [0.20784314 0.18431373 0.16078432]\n",
      "  [0.18431373 0.18039216 0.1764706 ]\n",
      "  [0.19215687 0.1882353  0.18039216]]\n",
      "\n",
      " [[0.37254903 0.3254902  0.27450982]\n",
      "  [0.36862746 0.32156864 0.27450982]\n",
      "  [0.36862746 0.31764707 0.27058825]\n",
      "  ...\n",
      "  [0.23137255 0.19215687 0.14901961]\n",
      "  [0.20784314 0.18431373 0.16078432]\n",
      "  [0.19215687 0.1882353  0.18039216]]]\n",
      "Is there a visual observation ? True\n",
      "Agent visual observation look like:\n"
     ]
    },
    {
     "data": {
      "image/png": "[encoded data removed]",
      "text/plain": [
       "<Figure size 432x288 with 1 Axes>"
      ]
     },
     "metadata": {
      "needs_background": "light"
     },
     "output_type": "display_data"
    }
   ],
   "source": [
    "# Get the state of the agents\n",
    "step_result = env.get_step_result(group_name)\n",
    "\n",
    "# Examine the number of observations per Agent\n",
    "print(\"Number of observations : \", len(group_spec.observation_shapes))\n",
    "print(group_spec.observation_shapes)\n",
    "\n",
    "state_size = group_spec.observation_shapes[0][0]\n",
    "\n",
    "action_size = group_spec.action_size\n",
    "print(\"Action size: \", action_size)\n",
    "# Examine the state space for the first observation for all agents\n",
    "print(\"Agent state looks like: \\n{}\".format(step_result.obs[0]))\n",
    "\n",
    "# Examine the state space for the first observation for the first agent\n",
    "print(\"Agent state looks like: \\n{}\".format(step_result.obs[0][0]))\n",
    "\n",
    "# Is there a visual observation ?\n",
    "vis_obs = any([len(shape) == 3 for shape in group_spec.observation_shapes])\n",
    "print(\"Is there a visual observation ?\", vis_obs)\n",
    "\n",
    "# Examine the visual observations\n",
    "if vis_obs:\n",
    "    vis_obs_index = next(i for i,v in enumerate(group_spec.observation_shapes) if len(v) == 3)\n",
    "    print(\"Agent visual observation look like:\")\n",
    "    obs = step_result.obs[vis_obs_index]\n",
    "    plt.imshow(obs[0,:,:,:])\n"
   ]
  },
  {
   "cell_type": "code",
   "execution_count": null,
   "metadata": {},
   "outputs": [],
   "source": [
    "for episode in range(10): # num of iteration\n",
    "    env.reset()\n",
    "    step_result = env.get_step_result(group_name)\n",
    "    done = False\n",
    "    episode_rewards = 0\n",
    "    while not done:\n",
    "        action_size = group_spec.action_size\n",
    "#         print( group_spec.is_action_continuous())\n",
    "        if group_spec.is_action_continuous():\n",
    "            action = np.random.randn(step_result.n_agents(), group_spec.action_size)\n",
    "        \n",
    "            \n",
    "        if group_spec.is_action_discrete():\n",
    "            branch_size = group_spec.discrete_action_branches\n",
    "            action = np.column_stack([np.random.randint(0, branch_size[i], size=(step_result.n_agents())) for i in range(len(branch_size))])\n",
    "#         print(action)\n",
    "        env.set_actions(group_name, action)\n",
    "        env.step()\n",
    "        step_result = env.get_step_result(group_name)\n",
    "\n",
    "        # Examine the visual observations\n",
    "        if vis_obs:\n",
    "            vis_obs_index = next(i for i,v in enumerate(group_spec.observation_shapes) if len(v) == 3)\n",
    "            obs = step_result.obs[vis_obs_index]\n",
    "            plt.imshow(obs[0,:,:,:])\n",
    "        \n",
    "        \n",
    "#         print(step_result)\n",
    "        episode_rewards += step_result.reward[0]\n",
    "        done = step_result.done[0]\n",
    "#         break\n",
    "#     print(\"Total reward this episode: {}\".format(episode_rewards))\n",
    "#     break\n"
   ]
  },
  {
   "cell_type": "code",
   "execution_count": null,
   "metadata": {},
   "outputs": [],
   "source": [
    "env.close()"
   ]
  }
 ],
 "metadata": {
  "kernelspec": {
   "display_name": "Python 3",
   "language": "python",
   "name": "python3"
  },
  "language_info": {
   "codemirror_mode": {
    "name": "ipython",
    "version": 3
   },
   "file_extension": ".py",
   "mimetype": "text/x-python",
   "name": "python",
   "nbconvert_exporter": "python",
   "pygments_lexer": "ipython3",
   "version": "3.6.10"
  }
 },
 "nbformat": 4,
 "nbformat_minor": 4
}
